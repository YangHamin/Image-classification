{
 "cells": [
  {
   "cell_type": "code",
   "execution_count": 1,
   "id": "48ce97f4",
   "metadata": {},
   "outputs": [],
   "source": [
    "import os # 파일명, 폴더명 정보를 읽어오기 위한 모듈\n",
    "import shutil # 파일 이동을 위한 모듈\n",
    "import matplotlib\n",
    "import matplotlib.pyplot as plt\n",
    "import random # 랜덤 함수 이용을 위한 모듈\n",
    "from glob import glob\n",
    "import numpy as np # numpy 라이브러리 \n",
    "import cv2 # opencv  라이브러리 \n",
    "import glob\n",
    "import pandas as pd # 판다스 라이브러리  "
   ]
  },
  {
   "cell_type": "code",
   "execution_count": 2,
   "id": "31c35471",
   "metadata": {},
   "outputs": [],
   "source": [
    "# train / test 드라이브 생성 \n",
    "directory_list = ['./custom_data/train/' , './custom_data/test/',\"사과\"]"
   ]
  },
  {
   "cell_type": "code",
   "execution_count": 9,
   "id": "709e01e0",
   "metadata": {},
   "outputs": [],
   "source": [
    "# 초기 디렉토리 생성 \n",
    "for directory in directory_list:\n",
    "  if not os.path.isdir(directory):\n",
    "    os.makedirs(directory)"
   ]
  },
  {
   "cell_type": "code",
   "execution_count": 10,
   "id": "c7cd2a7b",
   "metadata": {},
   "outputs": [
    {
     "data": {
      "text/plain": [
       "['사과 (1).jpg',\n",
       " '사과 (10).jpg',\n",
       " '사과 (11).jpg',\n",
       " '사과 (12).jpg',\n",
       " '사과 (13).jpg',\n",
       " '사과 (14).jpg',\n",
       " '사과 (15).jpg',\n",
       " '사과 (16).jpg',\n",
       " '사과 (17).jpg',\n",
       " '사과 (2).jpg',\n",
       " '사과 (3).jpg',\n",
       " '사과 (4).jpg',\n",
       " '사과 (5).jpg',\n",
       " '사과 (6).jpg',\n",
       " '사과 (7).jpg',\n",
       " '사과 (8).jpg',\n",
       " '사과 (9).jpg']"
      ]
     },
     "execution_count": 10,
     "metadata": {},
     "output_type": "execute_result"
    }
   ],
   "source": [
    "os.listdir('사과')"
   ]
  },
  {
   "cell_type": "code",
   "execution_count": 11,
   "id": "e4ff36bd",
   "metadata": {},
   "outputs": [],
   "source": [
    "from sklearn.model_selection import train_test_split\n",
    "from PIL import Image\n",
    "\n",
    "def dataset_split(query, train_cnt):\n",
    "    X = os.listdir(query) #불러온 사과 dataset\n",
    "    y = np.arange(len(os.listdir(query))) # 그냥 전체 dataset 길이만큼 이미지에 대한 레이블 임의로 만들어준거에요(밑에 train_test_split 메서드 쓰려면 parameter를 맞춰줘야 돼서)\n",
    "    \n",
    "    X_train, X_test, y_train, y_test = train_test_split(X, y, test_size=0.2, shuffle=True) # test_size 비율만 조정하시면 돼요\n",
    "    \n",
    "\n",
    "    for file_name in X_train:\n",
    "        file_path = os.path.join(query, file_name)\n",
    "        new_file_path = os.path.join('./custom_data/train', file_name)\n",
    "        print(\"파일 경로 + 파일명 = \", file_path)\n",
    "\n",
    "        shutil.copy(file_path, new_file_path)\n",
    "        \n",
    "    for file_name in X_test:\n",
    "        file_path = os.path.join(query, file_name)\n",
    "        new_file_path = os.path.join('./custom_data/test', file_name)\n",
    "        print(\"파일 경로 + 파일명 = \", file_path)\n",
    "\n",
    "        shutil.copy(file_path, new_file_path)"
   ]
  },
  {
   "cell_type": "code",
   "execution_count": 12,
   "id": "898c9f04",
   "metadata": {},
   "outputs": [
    {
     "name": "stdout",
     "output_type": "stream",
     "text": [
      "파일 경로 + 파일명 =  사과\\사과 (7).jpg\n",
      "파일 경로 + 파일명 =  사과\\사과 (11).jpg\n",
      "파일 경로 + 파일명 =  사과\\사과 (10).jpg\n",
      "파일 경로 + 파일명 =  사과\\사과 (8).jpg\n",
      "파일 경로 + 파일명 =  사과\\사과 (6).jpg\n",
      "파일 경로 + 파일명 =  사과\\사과 (1).jpg\n",
      "파일 경로 + 파일명 =  사과\\사과 (16).jpg\n",
      "파일 경로 + 파일명 =  사과\\사과 (9).jpg\n",
      "파일 경로 + 파일명 =  사과\\사과 (17).jpg\n",
      "파일 경로 + 파일명 =  사과\\사과 (5).jpg\n",
      "파일 경로 + 파일명 =  사과\\사과 (2).jpg\n",
      "파일 경로 + 파일명 =  사과\\사과 (12).jpg\n",
      "파일 경로 + 파일명 =  사과\\사과 (4).jpg\n",
      "파일 경로 + 파일명 =  사과\\사과 (14).jpg\n",
      "파일 경로 + 파일명 =  사과\\사과 (13).jpg\n",
      "파일 경로 + 파일명 =  사과\\사과 (15).jpg\n",
      "파일 경로 + 파일명 =  사과\\사과 (3).jpg\n"
     ]
    }
   ],
   "source": [
    "query = \"사과\"\n",
    "dataset_split(query,2)"
   ]
  },
  {
   "cell_type": "code",
   "execution_count": 15,
   "id": "19d10291",
   "metadata": {},
   "outputs": [
    {
     "data": {
      "text/plain": [
       "['사과 (1).jpg',\n",
       " '사과 (10).jpg',\n",
       " '사과 (11).jpg',\n",
       " '사과 (12).jpg',\n",
       " '사과 (16).jpg',\n",
       " '사과 (17).jpg',\n",
       " '사과 (2).jpg',\n",
       " '사과 (4).jpg',\n",
       " '사과 (5).jpg',\n",
       " '사과 (6).jpg',\n",
       " '사과 (7).jpg',\n",
       " '사과 (8).jpg',\n",
       " '사과 (9).jpg']"
      ]
     },
     "execution_count": 15,
     "metadata": {},
     "output_type": "execute_result"
    }
   ],
   "source": [
    "os.listdir('./custom_data/train/')"
   ]
  },
  {
   "cell_type": "code",
   "execution_count": 16,
   "id": "3c658e28",
   "metadata": {},
   "outputs": [
    {
     "data": {
      "text/plain": [
       "['사과 (13).jpg', '사과 (14).jpg', '사과 (15).jpg', '사과 (3).jpg']"
      ]
     },
     "execution_count": 16,
     "metadata": {},
     "output_type": "execute_result"
    }
   ],
   "source": [
    "os.listdir('./custom_data/test/')"
   ]
  },
  {
   "cell_type": "code",
   "execution_count": null,
   "id": "fd5d58b2",
   "metadata": {},
   "outputs": [],
   "source": []
  }
 ],
 "metadata": {
  "kernelspec": {
   "display_name": "Python 3",
   "language": "python",
   "name": "python3"
  },
  "language_info": {
   "codemirror_mode": {
    "name": "ipython",
    "version": 3
   },
   "file_extension": ".py",
   "mimetype": "text/x-python",
   "name": "python",
   "nbconvert_exporter": "python",
   "pygments_lexer": "ipython3",
   "version": "3.8.8"
  }
 },
 "nbformat": 4,
 "nbformat_minor": 5
}
